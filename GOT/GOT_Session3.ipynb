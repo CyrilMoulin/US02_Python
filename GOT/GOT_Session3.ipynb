{
 "cells": [
  {
   "cell_type": "code",
   "execution_count": 1,
   "metadata": {},
   "outputs": [],
   "source": [
    "import requests"
   ]
  },
  {
   "cell_type": "code",
   "execution_count": 2,
   "metadata": {},
   "outputs": [],
   "source": [
    "url = 'https://awoiaf.westeros.org/index.php/List_of_characters'\n",
    "r = requests.get(url)"
   ]
  },
  {
   "cell_type": "code",
   "execution_count": 3,
   "metadata": {},
   "outputs": [],
   "source": [
    "#r.text"
   ]
  },
  {
   "cell_type": "code",
   "execution_count": 4,
   "metadata": {},
   "outputs": [],
   "source": [
    "from bs4 import BeautifulSoup"
   ]
  },
  {
   "cell_type": "code",
   "execution_count": 5,
   "metadata": {},
   "outputs": [],
   "source": [
    "soup = BeautifulSoup(r.text,'html5lib')"
   ]
  },
  {
   "cell_type": "code",
   "execution_count": 6,
   "metadata": {},
   "outputs": [],
   "source": [
    "links = soup.select('li > a:nth-of-type(1)')\n",
    "#links"
   ]
  },
  {
   "cell_type": "code",
   "execution_count": 39,
   "metadata": {},
   "outputs": [],
   "source": [
    "href = []\n",
    "links = soup.select('li > a:nth-of-type(1)')\n",
    "for link in links:\n",
    "    if 'title' in link.attrs and 'href' in link.attrs:\n",
    "        if len(link.attrs) == 2:\n",
    "            href.append(link['href'])\n",
    "        elif len(link.attrs) == 3 and 'class' in link.attrs:\n",
    "            href.append(link['href'])\n",
    "href = href[:-4]"
   ]
  },
  {
   "cell_type": "code",
   "execution_count": 8,
   "metadata": {},
   "outputs": [],
   "source": [
    "#len(href)"
   ]
  },
  {
   "cell_type": "code",
   "execution_count": 15,
   "metadata": {},
   "outputs": [],
   "source": [
    "robot_crawler = {}\n",
    "# attention le faire une seul fois\n",
    "#========================================================\n",
    "for h in href:\n",
    "    name = h.split('/')[-1] # [-1] : Prend la dernière partie\n",
    "    robot_crawler[name]=None\n",
    "#========================================================"
   ]
  },
  {
   "cell_type": "code",
   "execution_count": 40,
   "metadata": {},
   "outputs": [],
   "source": [
    "with open('awoif.pickle','rb') as fp:\n",
    "    robot_crawler = pickle.load(fp)"
   ]
  },
  {
   "cell_type": "code",
   "execution_count": 41,
   "metadata": {},
   "outputs": [],
   "source": [
    "import random\n",
    "import time\n",
    "import pickle\n",
    "\n",
    "for name, status in robot_crawler.items():\n",
    "    try:\n",
    "        if status is None:\n",
    "            url = 'https://awoiaf.westeros.org/index.php/'+name\n",
    "            r = requests.get(url)\n",
    "            # awoif : nom du dossier\n",
    "            with open('awoif/'+name+'.html','w+',encoding='utf-8') as fp: # w+ : write\n",
    "                fp.write(r.text)\n",
    "            robot_crawler[name] = 'done'\n",
    "            time.sleep(random.uniform(0.5,2.0))\n",
    "            with open('awoif.pickle','wb+') as fp:\n",
    "                pickle.dump(robot_crawler, fp)\n",
    "    except IOError:\n",
    "        robot_crawler[name] = 'error'"
   ]
  },
  {
   "cell_type": "code",
   "execution_count": 43,
   "metadata": {},
   "outputs": [],
   "source": [
    "#robot_crawler"
   ]
  },
  {
   "cell_type": "code",
   "execution_count": null,
   "metadata": {},
   "outputs": [],
   "source": []
  }
 ],
 "metadata": {
  "kernelspec": {
   "display_name": "Python 3",
   "language": "python",
   "name": "python3"
  },
  "language_info": {
   "codemirror_mode": {
    "name": "ipython",
    "version": 3
   },
   "file_extension": ".py",
   "mimetype": "text/x-python",
   "name": "python",
   "nbconvert_exporter": "python",
   "pygments_lexer": "ipython3",
   "version": "3.7.1"
  }
 },
 "nbformat": 4,
 "nbformat_minor": 2
}
