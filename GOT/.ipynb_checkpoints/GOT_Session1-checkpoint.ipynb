{
 "cells": [
  {
   "cell_type": "markdown",
   "metadata": {},
   "source": [
    "## Load library"
   ]
  },
  {
   "cell_type": "code",
   "execution_count": 11,
   "metadata": {},
   "outputs": [],
   "source": [
    "import spacy # Analyse du language\n",
    "import re\n",
    "import en_core_web_sm\n",
    "import en_core_web_lg\n",
    "import math"
   ]
  },
  {
   "cell_type": "markdown",
   "metadata": {},
   "source": [
    "## Find the characteres of GoT"
   ]
  },
  {
   "cell_type": "code",
   "execution_count": 3,
   "metadata": {},
   "outputs": [],
   "source": [
    "nlp_sm = en_core_web_sm.load()\n",
    "nlp_sm.max_length = 2500000\n",
    "\n",
    "nlp_lg = en_core_web_lg.load() # cmd to download : python -m spacy download en_core_web_lg\n",
    "nlp_lg.max_length = 2500000\n",
    "\n",
    "#doc = nlp2(u\"Apple is looking at buying U.K. startup for $1 billion\") # u == unicode\n",
    "\n",
    "#for ent in doc.ents:\n",
    "#    print(ent.text, ent.start_char, ent.end_char, ent.label_)\n",
    "    \n",
    "#doc = nlp1(u\"Apple is looking at buying U.K. startup for $1 billion. Bran Stark is a boy.\")\n",
    "#for token in doc:\n",
    "#    print(token.lemma_, token.text) \n",
    "#for ent in doc.ents:\n",
    "#    print(ent.text, ent.start_char, ent.end_char, ent.label_)"
   ]
  },
  {
   "cell_type": "code",
   "execution_count": 4,
   "metadata": {},
   "outputs": [],
   "source": [
    "# a = ['1','2','3','4']\n",
    "# print(' '.join(a)) # Permet de concaténer les charactères d'une liste avec l'élément choisi\n",
    "# name = word.replace('stuff','') # Remplace stuff par espace"
   ]
  },
  {
   "cell_type": "code",
   "execution_count": 5,
   "metadata": {},
   "outputs": [],
   "source": [
    "def union_entities(listA, listB):\n",
    "    result = listA\n",
    "    for ent_b,y1,y2 in listB:\n",
    "        overlap = False\n",
    "        for ent_a,x1,x2 in listA:\n",
    "            if x1 <= y2 and y1 <= x2: # overlap\n",
    "                overlap = True\n",
    "                if (y2-y1) > (x2-x2): # the largest entity is B\n",
    "                    result.remove((ent_a,x1,x2))\n",
    "                    result.append((ent_b,y1,y2))\n",
    "                break\n",
    "        if not overlap:\n",
    "            result.append((ent_b,y1,y2))\n",
    "    return result"
   ]
  },
  {
   "cell_type": "code",
   "execution_count": 13,
   "metadata": {},
   "outputs": [],
   "source": [
    "def process_chapter(chapter):\n",
    "    doc1 = nlp_sm(chapter)\n",
    "    doc2 = nlp_lg(chapter)\n",
    "    sm = []\n",
    "    lg = []\n",
    "    for ent in doc1.ents:\n",
    "        if ent.label_ == 'PERSON':\n",
    "            sm.append((ent.text, ent.start_char, ent.end_char))\n",
    "    for ent in doc2.ents:\n",
    "        if ent.label_ == 'PERSON':\n",
    "            lg.append((ent.text, ent.start_char, ent.end_char))\n",
    "\n",
    "    return union_entities(sm,lg)"
   ]
  },
  {
   "cell_type": "code",
   "execution_count": 14,
   "metadata": {},
   "outputs": [],
   "source": [
    "def process_book(head, tail, book_number):\n",
    "    filename = head + str(book_number) + tail\n",
    "    with open(filename) as fp:\n",
    "        book = fp.read()\n",
    "    regex = r\"\\n{1,}([A-Z\\s]+)\\n{2,}\"\n",
    "    chunks = re.split(regex,book)\n",
    "    \n",
    "    entities = {}\n",
    "    for index, chunk in enumerate(chunks):\n",
    "        if chunk.isupper():\n",
    "            #print(chunk.strip().title(),chunks[index+1][:100].strip())\n",
    "            title = str(book_number) + '–' + str(math.floor(index/2)) + '-' + chunk.strip().title()\n",
    "            chapter = chunks[index+1].strip().replace('\\t','').replace('\"','').replace('\\n',' ').replace(' . . .','...')\n",
    "            entities[title] = process_chapter(chapter)\n",
    "    return entities"
   ]
  },
  {
   "cell_type": "code",
   "execution_count": 15,
   "metadata": {},
   "outputs": [
    {
     "name": "stdout",
     "output_type": "stream",
     "text": [
      "book 1 done\n",
      "book 2 done\n",
      "book 3 done\n",
      "book 4 done\n",
      "book 5 done\n"
     ]
    }
   ],
   "source": [
    "characters = {} #––––––––––––––––––––––––––––––––\n",
    "for i in range (1,6):\n",
    "    characters.update(process_book('GOT','.txt',i))\n",
    "    print('book',i,'done')"
   ]
  },
  {
   "cell_type": "code",
   "execution_count": 30,
   "metadata": {},
   "outputs": [],
   "source": [
    "with open ('GOT-characters-raw.pickle','wb+') as blav:\n",
    "    pickle.dump(characters, blav)"
   ]
  },
  {
   "cell_type": "code",
   "execution_count": 32,
   "metadata": {},
   "outputs": [
    {
     "data": {
      "text/plain": [
       "dict_keys(['1–0-Prologue', '1–1-Bran', '1–2-Catelyn', '1–3-Daenerys', '1–4-Eddard', '1–5-Jon', '1–6-Catelyn', '1–7-Arya', '1–8-Bran', '1–9-Tyrion', '1–10-Jon', '1–11-Daenerys', '1–12-Eddard', '1–13-Tyrion', '1–14-Catelyn', '1–15-Sansa', '1–16-Eddard', '1–17-Bran', '1–18-Catelyn', '1–19-Jon', '1–20-Eddard', '1–21-Tyrion', '1–22-Arya', '1–23-Daenerys', '1–24-Bran', '1–25-Eddard', '1–26-Jon', '1–27-Eddard', '1–28-Catelyn', '1–29-Sansa', '1–30-Eddard', '1–31-Tyrion', '1–32-Arya', '1–33-Eddard', '1–34-Catelyn', '1–35-Eddard', '1–36-Daenerys', '1–37-Bran', '1–38-Tyrion', '1–39-Eddard', '1–40-Catelyn', '1–41-Jon', '1–42-Tyrion', '1–43-Eddard', '1–44-Sansa', '1–45-Eddard', '1–46-Daenerys', '1–47-Eddard', '1–48-Jon', '1–49-Eddard', '1–50-Arya', '1–51-Sansa', '1–52-Jon', '1–53-Bran', '1–54-Daenerys', '1–55-Catelyn', '1–56-Tyrion', '1–57-Sansa', '1–58-Eddard', '1–59-Catelyn', '1–60-Jon', '1–61-Daenerys', '1–62-Tyrion', '1–63-Catelyn', '1–64-Daenerys', '1–65-Arya', '1–66-Bran', '1–67-Sansa', '1–68-Daenerys', '1–69-Tyrion', '1–70-Jon', '1–71-Catelyn', '1–72-Daenerys', '2–0-Prologue', '2–1-Arya', '2–2-Sansa', '2–3-Tyrion', '2–4-Bran', '2–5-Arya', '2–6-Jon', '2–7-Catelyn', '2–8-Tyrion', '2–9-Arya', '2–10-Davos', '2–11-Theon', '2–12-Daenerys', '2–13-Jon', '2–14-Arya', '2–15-Tyrion', '2–16-Bran', '2–17-Tyrion', '2–18-Sansa', '2–19-Arya', '2–20-Tyrion', '2–21-Bran', '2–22-Catelyn', '2–23-Jon', '2–24-Theon', '2–25-Tyrion', '2–26-Arya', '2–27-Daenerys', '2–28-Bran', '2–29-Tyrion', '2–30-Arya', '2–31-Catelyn', '2–32-Sansa', '2–33-Catelyn', '2–34-Jon', '2–35-Bran', '2–36-Tyrion', '2–37-Theon', '2–38-Arya', '2–39-Catelyn', '2–40-Daenerys', '2–41-Tyrion', '2–42-Davos', '2–43-Jon', '2–44-Tyrion', '2–45-Catelyn', '2–46-Bran', '2–47-Arya', '2–48-Daenerys', '2–49-Tyrion', '2–50-Theon', '2–51-Jon', '2–52-Sansa', '2–53-Jon', '2–54-Tyrion', '2–55-Catelyn', '2–56-Theon', '2–57-Sansa', '2–58-Davos', '2–59-Tyrion', '2–60-Sansa', '2–61-Tyrion', '2–62-Sansa', '2–63-Daenerys', '2–64-Arya', '2–65-Sansa', '2–66-Theon', '2–67-Tyrion', '2–68-Jon', '2–69-Bran', '3–0-Prologue', '3–1-Jaime', '3–2-Catelyn', '3–3-Arya', '3–4-Tyrion', '3–5-Davos', '3–6-Sansa', '3–7-Jon', '3–8-Daenerys', '3–9-Bran', '3–10-Davos', '3–11-Jaime', '3–12-Tyrion', '3–13-Arya', '3–14-Catelyn', '3–15-Jon', '3–16-Sansa', '3–17-Arya', '3–18-Samwell', '3–19-Tyrion', '3–20-Catelyn', '3–21-Jaime', '3–22-Arya', '3–23-Daenerys', '3–24-Bran', '3–25-Davos', '3–26-Jon', '3–27-Daenerys', '3–28-Sansa', '3–29-Arya', '3–30-Jon', '3–31-Jaime', '3–32-Tyrion', '3–33-Samwell', '3–34-Arya', '3–35-Catelyn', '3–36-Davos', '3–37-Jaime', '3–38-Tyrion', '3–39-Arya', '3–40-Bran', '3–41-Jon', '3–42-Daenerys', '3–43-Arya', '3–44-Jaime', '3–45-Catelyn', '3–46-Samwell', '3–47-Arya', '3–48-Jon', '3–49-Catelyn', '3–50-Arya', '3–51-Catelyn', '3–52-Arya', '3–53-Tyrion', '3–54-Davos', '3–55-Jon', '3–56-Bran', '3–57-Daenerys', '3–58-Tyrion', '3–59-Sansa', '3–60-Tyrion', '3–61-Sansa', '3–62-Jaime', '3–63-Davos', '3–64-Jon', '3–65-Arya', '3–66-Tyrion', '3–67-Jaime', '3–68-Sansa', '3–69-Jon', '3–70-Tyrion', '3–71-Daenerys', '3–72-Jaime', '3–73-Jon', '3–74-Arya', '3–75-Samwell', '3–76-Jon', '3–77-Tyrion', '3–78-Samwell', '3–79-Jon', '3–80-Sansa', '3–81-Epilogue', '4–0-Prologue', '4–1-The Prophet', '4–2-The Captain Of Guards', '4–3-Cersei', '4–4-Brienne', '4–5-Samwell', '4–6-Arya', '4–7-Cersei', '4–8-Jaime', '4–9-Brienne', '4–10-Sansa', '4–11-Cersei', '4–12-The Soiled Knight', '4–13-Brienne', '4–14-Samwell', '4–15-Jaime', '4–16-Cersei', '4–17-The Iron Captain', '4–18-The Drowned Man', '4–19-Brienne', '4–20-The Queenmaker', '4–21-Arya', '4–22-Alayne', '4–23-Cersei', '4–24-Brienne', '4–25-Samwell', '4–26-Jaime', '4–27-Cersei', '4–28-The Reaver', '4–29-Jaime', '4–30-Brienne', '4–31-Cersei', '4–32-Jaime', '4–33-Cat Of The Canals', '4–34-Samwell', '4–35-Cersei', '4–36-Brienne', '4–37-Jaime', '4–38-Cersei', '4–39-The Princess In The Tower', '4–40-Alayne', '4–41-Brienne', '4–42-Cersei', '4–43-Jaime', '4–44-Samwell', '5–0-Prologue', '5–1-Tyrion', '5–2-Daenerys', '5–3-Jon', '5–4-Bran', '5–5-Tyrion', '5–7-Jon', '5–8-Tyrion', '5–9-Davos', '5–10-Jon', '5–11-Daenerys', '5–12-Reek', '5–13-Bran', '5–14-Tyrion', '5–15-Davos', '5–16-Daenerys', '5–17-Jon', '5–18-Tyrion', '5–19-Davos', '5–20-Reek', '5–21-Jon', '5–22-Tyrion', '5–23-Daenerys', '5–24-The Lost Lord', '5–25-The Windblown', '5–26-The Wayward Bride', '5–27-Tyrion', '5–28-Jon', '5–29-Davos', '5–30-Daenerys', '5–31-Melisandre', '5–32-Reek', '5–33-Tyrion', '5–34-Bran', '5–35-Jon', '5–36-Daenerys', '5–37-The Prince Of Winterfell', '5–38-The Watcher', '5–39-Jon', '5–40-Tyrion', '5–41-The Turncloak', '5–43-Daenerys', '5–44-Jon', '5–45-The Blind Girl', '5–46-A Ghost In Winterfell', '5–47-Tyrion', '5–48-Jaime', '5–49-Jon', '5–50-Daenerys', '5–51-Theon', '5–52-Daenerys', '5–53-Jon', '5–54-Cersei', '5–55-The Queensguard', '5–56-The Iron Suitor', '5–57-Tyrion', '5–58-Jon', '5–59-The Discarded Knight', '5–60-The Spurned Suitor', '5–61-The Griffin Reborn', '5–62-The Sacrifice', '5–63-Victarion', '5–64-The Ugly Little Girl', '5–65-Cersei', '5–66-Tyrion', '5–67-The Kingbreaker', '5–68-The Dragontamer', '5–69-Jon', '5–72-Daenerys', '5–73-Epilogue'])"
      ]
     },
     "execution_count": 32,
     "metadata": {},
     "output_type": "execute_result"
    }
   ],
   "source": [
    "characters.keys()"
   ]
  },
  {
   "cell_type": "code",
   "execution_count": 34,
   "metadata": {},
   "outputs": [
    {
     "data": {
      "text/plain": [
       "[('Old Nan', 629, 636),\n",
       " ('North', 3194, 3199),\n",
       " ('Ass', 3978, 3981),\n",
       " ('Old Nan', 6236, 6243),\n",
       " ('Ice', 9169, 9172),\n",
       " ('Hullen', 11496, 11502),\n",
       " ('Bran', 159, 163),\n",
       " ('Robb', 463, 467),\n",
       " ('Mance Rayder', 514, 526),\n",
       " ('Robb', 1065, 1069),\n",
       " ('Robb', 1388, 1392),\n",
       " ('Jon', 1397, 1400),\n",
       " ('Bran', 1716, 1720),\n",
       " ('Bran', 2117, 2121),\n",
       " ('Stark', 2159, 2164),\n",
       " ('Eddard Stark', 2516, 2528),\n",
       " ('Theon Greyjoy', 2553, 2566),\n",
       " ('Robb', 2680, 2684),\n",
       " ('Jory Cassel', 2842, 2853),\n",
       " ('Robert', 2952, 2958),\n",
       " ('Eddard', 3130, 3136),\n",
       " ('Jon Snow', 3296, 3304),\n",
       " ('Greyjoy', 3833, 3840),\n",
       " ('Theon', 3849, 3854),\n",
       " ('Jon', 3983, 3986),\n",
       " ('Greyjoy', 4011, 4018),\n",
       " ('Jon', 4126, 4129),\n",
       " ('Jon', 4149, 4152),\n",
       " ('Robb', 4454, 4458),\n",
       " ('Jon Snow', 4643, 4651),\n",
       " ('Stark', 4743, 4748),\n",
       " ('Jon', 4750, 4753),\n",
       " ('Robb', 4868, 4872),\n",
       " ('Jon', 4903, 4906),\n",
       " ('Robb', 4925, 4929),\n",
       " ('Robb', 4955, 4959),\n",
       " ('Robb', 5033, 5037),\n",
       " ('Jon', 5137, 5140),\n",
       " ('Robb', 5174, 5178),\n",
       " ('Robb', 5238, 5242),\n",
       " ('Jon', 5265, 5268),\n",
       " ('Robb', 5507, 5511),\n",
       " ('Bran', 5693, 5697),\n",
       " ('Bran', 5736, 5740),\n",
       " ('Robb', 5876, 5880),\n",
       " ('Jon', 5912, 5915),\n",
       " ('Robert', 6613, 6619),\n",
       " ('Targaryen', 6699, 6708),\n",
       " ('Starks', 6816, 6822),\n",
       " ('Robb', 7117, 7121),\n",
       " ('Jon', 7401, 7404),\n",
       " ('Bran', 7497, 7501),\n",
       " ('Robb', 7526, 7530),\n",
       " ('Jory', 7566, 7570),\n",
       " ('Jory', 7739, 7743),\n",
       " ('Robb', 7789, 7793),\n",
       " ('Jon', 7837, 7840),\n",
       " ('Robb', 7919, 7923),\n",
       " ('Jory Cassel', 8202, 8213),\n",
       " ('Theon Greyjoy', 8218, 8231),\n",
       " ('Greyjoy', 8266, 8273),\n",
       " ('Jory', 8436, 8440),\n",
       " ('Robb', 8466, 8470),\n",
       " ('Robb', 8531, 8535),\n",
       " ('Jory', 8628, 8632),\n",
       " ('Bran', 8634, 8638),\n",
       " ('Jon', 8819, 8822),\n",
       " ('Jory', 8824, 8828),\n",
       " ('Theon Greyjoy', 8834, 8847),\n",
       " ('Greyjoy', 8907, 8914),\n",
       " ('Robb', 8935, 8939),\n",
       " ('Greyjoy', 8959, 8966),\n",
       " ('Jon', 9513, 9516),\n",
       " ('Theon Greyjoy', 9587, 9600),\n",
       " ('Jon', 9698, 9701),\n",
       " ('Robb', 9792, 9796),\n",
       " ('Robb', 9941, 9945),\n",
       " ('Robb', 10083, 10087),\n",
       " ('Jon', 10174, 10177),\n",
       " ('Direwolves', 10378, 10388),\n",
       " ('Jory', 10497, 10501),\n",
       " ('Jory', 10552, 10556),\n",
       " ('Robb', 10711, 10715),\n",
       " ('Jory', 11343, 11347),\n",
       " ('Theon Greyjoy', 11593, 11606),\n",
       " ('Greyjoy', 11792, 11799),\n",
       " ('Robb', 11801, 11805),\n",
       " ('Harwin', 11957, 11963),\n",
       " ('Hullen', 11973, 11979),\n",
       " ('Robb', 12311, 12315),\n",
       " (\"Ser Rodrik's\", 12337, 12349),\n",
       " ('Stark', 12513, 12518),\n",
       " ('Jon', 12520, 12523),\n",
       " ('Jon', 12699, 12702),\n",
       " ('Jon', 12737, 12740),\n",
       " ('Jon', 12949, 12952),\n",
       " ('Jon', 13084, 13087),\n",
       " ('Rickon', 13150, 13156),\n",
       " ('Snow', 13209, 13213),\n",
       " ('Jon', 13395, 13398),\n",
       " ('Stark', 13458, 13463),\n",
       " ('Jon', 13465, 13468),\n",
       " ('Stark', 13490, 13495),\n",
       " ('Jon', 13532, 13535),\n",
       " ('Robb', 13550, 13554),\n",
       " ('Bran', 14457, 14461),\n",
       " ('Robb', 14473, 14477),\n",
       " ('Robb', 14547, 14551),\n",
       " ('Jory', 14598, 14602),\n",
       " ('Desmond', 14604, 14611),\n",
       " ('Jon', 14952, 14955),\n",
       " ('Jon', 14988, 14991),\n",
       " ('Jon', 15166, 15169),\n",
       " ('Jon', 15210, 15213),\n",
       " ('Jon', 15464, 15467),\n",
       " ('Theon Greyjoy', 15794, 15807),\n",
       " ('Jon Snow', 15880, 15888),\n",
       " ('Greyjoy', 15948, 15955)]"
      ]
     },
     "execution_count": 34,
     "metadata": {},
     "output_type": "execute_result"
    }
   ],
   "source": [
    "characters['1–1-Bran']"
   ]
  },
  {
   "cell_type": "code",
   "execution_count": null,
   "metadata": {},
   "outputs": [],
   "source": []
  }
 ],
 "metadata": {
  "kernelspec": {
   "display_name": "Python 3",
   "language": "python",
   "name": "python3"
  },
  "language_info": {
   "codemirror_mode": {
    "name": "ipython",
    "version": 3
   },
   "file_extension": ".py",
   "mimetype": "text/x-python",
   "name": "python",
   "nbconvert_exporter": "python",
   "pygments_lexer": "ipython3",
   "version": "3.7.1"
  }
 },
 "nbformat": 4,
 "nbformat_minor": 2
}
