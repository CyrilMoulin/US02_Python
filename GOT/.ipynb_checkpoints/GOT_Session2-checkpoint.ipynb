{
 "cells": [
  {
   "cell_type": "code",
   "execution_count": 33,
   "metadata": {},
   "outputs": [],
   "source": [
    "import pickle\n",
    "import networkx as nx\n",
    "import numpy as np"
   ]
  },
  {
   "cell_type": "code",
   "execution_count": 25,
   "metadata": {},
   "outputs": [
    {
     "data": {
      "text/plain": [
       "340"
      ]
     },
     "execution_count": 25,
     "metadata": {},
     "output_type": "execute_result"
    }
   ],
   "source": [
    "with open('GOT-characters-raw.pickle','rb') as fp:\n",
    "    characters = pickle.load(fp)\n",
    "len(characters.keys())"
   ]
  },
  {
   "cell_type": "code",
   "execution_count": 26,
   "metadata": {},
   "outputs": [
    {
     "name": "stdout",
     "output_type": "stream",
     "text": [
      "5522\n"
     ]
    }
   ],
   "source": [
    "# set() : Créer des éléments unique\n",
    "entities = set()\n",
    "for chapter in characters.values():\n",
    "    for entity in chapter:\n",
    "        name = entity[0]\n",
    "        entities.add(name)\n",
    "print(len(entities))"
   ]
  },
  {
   "cell_type": "code",
   "execution_count": 79,
   "metadata": {},
   "outputs": [
    {
     "name": "stdout",
     "output_type": "stream",
     "text": [
      "Name: \n",
      "Type: Graph\n",
      "Number of nodes: 0\n",
      "Number of edges: 0\n",
      "\n"
     ]
    }
   ],
   "source": [
    "GOT = nx.Graph()\n",
    "print(nx.info(GOT))"
   ]
  },
  {
   "cell_type": "code",
   "execution_count": 80,
   "metadata": {},
   "outputs": [],
   "source": [
    "chapter = characters['1–1-Bran']\n",
    "# sort: tri en ordre croissant\n",
    "# pour chaque key, prendre l'élément 1 de la clé puis trier les ensembles avec sort\n",
    "def get_edges_from_chapter(chapter):\n",
    "    chapter.sort(key=lambda a:a[1],reverse=False)\n",
    "\n",
    "    #print(chapter)\n",
    "    potential_edges = []\n",
    "    for i in range(0,len(chapter)): # prend le 1er de la liste\n",
    "        name1,start1,end1 = chapter[i]\n",
    "        for j in range(i+1,len(chapter)):\n",
    "            name2,start2,end2 = chapter[j]\n",
    "            if name2 != name1:\n",
    "                potential_edges.append((name1,name2,{'dist':start2-end1}))\n",
    "    #print(len(potential_edges))\n",
    "    #print(potential_edges)\n",
    "    \n",
    "    edges = {}\n",
    "    for name1,name2,value in potential_edges:\n",
    "        if (name1,name2) not in edges.keys():\n",
    "            if (name2,name1) not in edges.keys():\n",
    "                edges[(name1,name2)] = {'values':[value['dist']]}\n",
    "            else:\n",
    "                edges[(name2,name1)]['values'].append(value['dist'])\n",
    "        else:\n",
    "            edges[(name1,name2)]['values'].append(value['dist'])\n",
    "\n",
    "    for k,v in edges.items():\n",
    "        # 25: 25%\n",
    "        # percentile: écarts types\n",
    "        #edges[k]['weight']=np.percentile(v['values'],25)\n",
    "        edges[k]['weight']=len([a for a in v['values'] if a <1000])\n",
    "        #print(k,edges[k]['weight'])\n",
    "\n",
    "    ready_for_nx = []\n",
    "    for k,v in edges.items():\n",
    "        name1 = k[0]\n",
    "        name2 = k[1]\n",
    "        weight = v['weight']\n",
    "        if weight > 0:\n",
    "            ready_for_nx.append((name1,name2,{'weight':weight}))\n",
    "    return ready_for_nx"
   ]
  },
  {
   "cell_type": "code",
   "execution_count": 81,
   "metadata": {},
   "outputs": [],
   "source": [
    "for chapter in characters.values():\n",
    "    GOT.add_edges_from(get_edges_from_chapter(chapter))"
   ]
  },
  {
   "cell_type": "code",
   "execution_count": 82,
   "metadata": {},
   "outputs": [
    {
     "name": "stdout",
     "output_type": "stream",
     "text": [
      "Name: \n",
      "Type: Graph\n",
      "Number of nodes: 5520\n",
      "Number of edges: 141887\n",
      "Average degree:  51.4083\n"
     ]
    }
   ],
   "source": [
    "print(nx.info(GOT))"
   ]
  },
  {
   "cell_type": "code",
   "execution_count": null,
   "metadata": {},
   "outputs": [],
   "source": [
    "nx.write_gexf(GOT,'GOT-version-1.gexf')"
   ]
  },
  {
   "cell_type": "code",
   "execution_count": null,
   "metadata": {},
   "outputs": [],
   "source": []
  }
 ],
 "metadata": {
  "kernelspec": {
   "display_name": "Python 3",
   "language": "python",
   "name": "python3"
  },
  "language_info": {
   "codemirror_mode": {
    "name": "ipython",
    "version": 3
   },
   "file_extension": ".py",
   "mimetype": "text/x-python",
   "name": "python",
   "nbconvert_exporter": "python",
   "pygments_lexer": "ipython3",
   "version": "3.7.1"
  }
 },
 "nbformat": 4,
 "nbformat_minor": 2
}
