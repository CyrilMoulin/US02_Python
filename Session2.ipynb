{
 "cells": [
  {
   "cell_type": "markdown",
   "metadata": {},
   "source": [
    "# First example: The economics automation\n",
    "## Import libraries"
   ]
  },
  {
   "cell_type": "code",
   "execution_count": 76,
   "metadata": {},
   "outputs": [],
   "source": [
    "import pandas\n",
    "import time\n",
    "import random"
   ]
  },
  {
   "cell_type": "markdown",
   "metadata": {},
   "source": [
    "## Import excel"
   ]
  },
  {
   "cell_type": "code",
   "execution_count": 77,
   "metadata": {},
   "outputs": [],
   "source": [
    "filename = 'D:\\\\ETUDE\\\\UTBM\\\\6 - GMC06 - UTSEUS\\\\Cours UTSEUS\\\\US02 - Data science literacy\\\\Data-sheet-STUDENTS.xlsx' ## Lien du fichier excel\n",
    "df = pandas.read_excel(filename, header = 2, usecols = 'B:AR') ## Lecture du fichier seul les colonnes comprisent entre B et AR sont retenues"
   ]
  },
  {
   "cell_type": "code",
   "execution_count": 78,
   "metadata": {},
   "outputs": [],
   "source": [
    "## Le code utilise les mêmes requêtes que précédemment\n",
    "def get_iso_code(country_name):\n",
    "    try:\n",
    "        url = 'https://restcountries.eu/rest/v2/name/' + country_name\n",
    "        r = requests.get(url)\n",
    "        data = r.json()\n",
    "        return data[0]['alpha3Code']\n",
    "    except KeyError:\n",
    "        #print('[ERROR] cannot get code for', country_name)\n",
    "        return None"
   ]
  },
  {
   "cell_type": "code",
   "execution_count": 79,
   "metadata": {},
   "outputs": [],
   "source": [
    "countries={}"
   ]
  },
  {
   "cell_type": "code",
   "execution_count": 80,
   "metadata": {},
   "outputs": [
    {
     "name": "stdout",
     "output_type": "stream",
     "text": [
      "Afghanistan AFG\n",
      "Albania ALB\n",
      "Armenia ARM\n",
      "Azerbaijan AZE\n",
      "Bahrain BHR\n",
      "Bangladesh BGD\n",
      "Belarus BLR\n",
      "Bhutan BTN\n",
      "Bosnia and Herzegovina BIH\n",
      "Brunei BRN\n",
      "Bulgaria BGR\n",
      "Cambodia KHM\n",
      "China CHN\n",
      "Croatia HRV\n",
      "Czech Republic CZE\n",
      "East Timor TLS\n",
      "Egypt EGY\n",
      "Estonia EST\n",
      "France FRA\n",
      "Georgia GEO\n",
      "Germany DEU\n",
      "Hungary HUN\n",
      "India IOT\n",
      "Indonesia IDN\n",
      "Iran IRN\n",
      "Iraq IRQ\n",
      "Israel ISR\n",
      "Jordan JOR\n",
      "Kazakhstan KAZ\n",
      "Kuwait KWT\n",
      "Kyrgyzstan KGZ\n",
      "Laos LAO\n",
      "Latvia LVA\n",
      "Lebanon LBN\n",
      "Lithuania LTU\n",
      "Macedonia MKD\n",
      "Malaysia MYS\n",
      "Maldives MDV\n",
      "Moldova MDA\n",
      "Mongolia MNG\n",
      "Montenegro MNE\n",
      "Myanmar MMR\n",
      "Nepal NPL\n",
      "Oman OMN\n",
      "Pakistan PAK\n",
      "Philippines PHL\n",
      "Poland POL\n",
      "Qatar QAT\n",
      "Romania ROU\n",
      "Russia RUS\n",
      "Saudi Arabia SAU\n",
      "Serbia SRB\n",
      "Singapore SGP\n",
      "Slovakia SVK\n",
      "Slovenia SVN\n",
      "Sri Lanka LKA\n",
      "Syria SYR\n",
      "Tajikistan TJK\n",
      "Thailiand THA\n",
      "The United Arab Emirates ARE\n",
      "Turkey TUR\n",
      "Turkmenistan TKM\n",
      "United Kingdom GBR\n",
      "United States of America USA\n",
      "Ukraine UKR\n",
      "Uzbekistan UZB\n",
      "Vietnam VNM\n",
      "Yemen YEM\n"
     ]
    }
   ],
   "source": [
    "for i,v in df['Country (according to CN Gov):'].iteritems():\n",
    "    country_name = v.split('(')[0].strip()\n",
    "    if country_name not in countries.keys():\n",
    "        iso_code = get_iso_code(country_name)\n",
    "        #if iso_code is not None:\n",
    "        #    countries[country_name] = iso_code #Rédige le nom du pays et l'iso_code\n",
    "        if country_name == 'Thailiand':\n",
    "            iso_code = 'THA'\n",
    "        elif country_name == 'The United Arab Emirates':\n",
    "            iso_code = 'ARE'\n",
    "        countries[country_name] = iso_code\n",
    "        print(country_name,iso_code)\n",
    "            #time.sleep(0.5 + random.random())"
   ]
  },
  {
   "cell_type": "code",
   "execution_count": 81,
   "metadata": {},
   "outputs": [],
   "source": [
    "import pickle"
   ]
  },
  {
   "cell_type": "code",
   "execution_count": 85,
   "metadata": {},
   "outputs": [],
   "source": [
    "with open ('C:\\\\Users\\\\Cyril\\\\Documents\\\\GitHub\\\\US02_Python\\\\countries.pickle','wb+') as fp:\n",
    "    pickle.dump(countries,fp)"
   ]
  },
  {
   "cell_type": "markdown",
   "metadata": {},
   "source": [
    "## Requests an API on worldbank"
   ]
  },
  {
   "cell_type": "code",
   "execution_count": 87,
   "metadata": {},
   "outputs": [],
   "source": [
    "import requests ## Le module requests permet d'utiliser le protocole HTTP. Ce qui nous permet donc d'extraire des données d'une page web."
   ]
  },
  {
   "cell_type": "code",
   "execution_count": 88,
   "metadata": {},
   "outputs": [
    {
     "name": "stdout",
     "output_type": "stream",
     "text": [
      "200\n",
      "data for China is None\n",
      "{'indicator': {'id': 'GC.TAX.IMPT.ZS', 'value': 'Customs and other import duties (% of tax revenue)'}, 'country': {'id': 'CN', 'value': 'China'}, 'countryiso3code': 'CHN', 'date': '2017', 'value': None, 'unit': '', 'obs_status': '', 'decimal': 1}\n"
     ]
    }
   ],
   "source": [
    "url = 'http://api.worldbank.org/v2/country/CHN/indicator/GC.TAX.IMPT.ZS?format=json' ## URL du site web.\n",
    "r = requests.get(url) ## Requests.get retourne un objet (ici r) que nous utilisons par la suite. Le code permet donc d'utiliser la page internet.\n",
    "print(r.status_code) ## Renvoie le statue du code.\n",
    "data = r.json() ## Le language json est un language de description, il est facilement analysable.\n",
    "print('data for',data[1][1]['country']['value'],'is',data[1][1]['value']) ## Permet d'extraire les données qu'on souhaite.\n",
    "print(data[1][1])"
   ]
  },
  {
   "cell_type": "code",
   "execution_count": 14,
   "metadata": {},
   "outputs": [
    {
     "name": "stdout",
     "output_type": "stream",
     "text": [
      "2016 3.89434134127694\n"
     ]
    }
   ],
   "source": [
    "for i in data[1]: ## Vérifie si une des valeurs équivaut à None est si oui recherche l'autre valeur\n",
    "    if i['value'] is None:\n",
    "        continue\n",
    "    else:\n",
    "        print(i['date'],i['value'])\n",
    "        break"
   ]
  },
  {
   "cell_type": "code",
   "execution_count": 15,
   "metadata": {},
   "outputs": [
    {
     "name": "stdout",
     "output_type": "stream",
     "text": [
      "France FRA\n"
     ]
    }
   ],
   "source": []
  },
  {
   "cell_type": "code",
   "execution_count": null,
   "metadata": {},
   "outputs": [],
   "source": []
  }
 ],
 "metadata": {
  "kernelspec": {
   "display_name": "Python 3",
   "language": "python",
   "name": "python3"
  },
  "language_info": {
   "codemirror_mode": {
    "name": "ipython",
    "version": 3
   },
   "file_extension": ".py",
   "mimetype": "text/x-python",
   "name": "python",
   "nbconvert_exporter": "python",
   "pygments_lexer": "ipython3",
   "version": "3.7.1"
  }
 },
 "nbformat": 4,
 "nbformat_minor": 2
}
