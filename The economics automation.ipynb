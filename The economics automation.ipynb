{
 "cells": [
  {
   "cell_type": "markdown",
   "metadata": {},
   "source": [
    "# First example: The economics automation\n",
    "## Import libraries"
   ]
  },
  {
   "cell_type": "code",
   "execution_count": 2,
   "metadata": {},
   "outputs": [],
   "source": [
    "import pandas"
   ]
  },
  {
   "cell_type": "markdown",
   "metadata": {},
   "source": [
    "## Import excel"
   ]
  },
  {
   "cell_type": "code",
   "execution_count": 19,
   "metadata": {},
   "outputs": [
    {
     "name": "stdout",
     "output_type": "stream",
     "text": [
      "Afghanistan\n",
      "Albania\n",
      "Armenia\n",
      "Azerbaijan\n",
      "Bahrain\n",
      "Bangladesh\n",
      "Belarus\n",
      "Bhutan\n",
      "Bosnia and Herzegovina\n",
      "Brunei\n",
      "Bulgaria\n",
      "Cambodia\n",
      "China\n",
      "Croatia\n",
      "Czech Republic\n",
      "East Timor\n",
      "Egypt\n",
      "Estonia\n",
      "France\n",
      "Georgia\n",
      "Germany\n",
      "Hungary\n",
      "India\n",
      "Indonesia\n",
      "Iran\n",
      "Iraq\n",
      "Israel\n",
      "Jordan\n",
      "Kazakhstan\n",
      "Kuwait\n",
      "Kyrgyzstan\n",
      "Laos\n",
      "Latvia\n",
      "Lebanon\n",
      "Lithuania\n",
      "Macedonia\n",
      "Malaysia\n",
      "Maldives\n",
      "Moldova\n",
      "Mongolia\n",
      "Montenegro\n",
      "Myanmar\n",
      "Nepal\n",
      "Oman\n",
      "Pakistan\n",
      "Philippines\n",
      "Poland\n",
      "Qatar\n",
      "Romania\n",
      "Russia\n",
      "Saudi Arabia\n",
      "Serbia\n",
      "Singapore\n",
      "Slovakia\n",
      "Slovenia\n",
      "Sri Lanka\n",
      "Syria\n",
      "Tajikistan\n",
      "Thailiand\n",
      "The United Arab Emirates\n",
      "Turkey\n",
      "Turkmenistan\n",
      "United Kingdom\n",
      "United States of America\n",
      "Ukraine\n",
      "Uzbekistan\n",
      "Vietnam\n",
      "Yemen\n"
     ]
    }
   ],
   "source": [
    "filename = 'D:\\\\ETUDE\\\\UTBM\\\\6 - GMC06 - UTSEUS\\\\Cours UTSEUS\\\\US02 - Data science literacy\\\\Data-sheet-STUDENTS.xlsx' ## Lien du fichier excel\n",
    "df = pandas.read_excel(filename, header = 2, usecols = 'B:AR') ## Lecture du fichier seul les colonnes comprisent entre B et AR sont retenues\n",
    "\n",
    "for i,v in df['Country (according to CN Gov):'].iteritems():\n",
    "    print(v.split('(')[0].strip()) ## Impression des pays"
   ]
  },
  {
   "cell_type": "markdown",
   "metadata": {},
   "source": [
    "## Requests an API on worldbank"
   ]
  },
  {
   "cell_type": "code",
   "execution_count": 23,
   "metadata": {},
   "outputs": [],
   "source": [
    "import requests ## Le module requests permet d'utiliser le protocole HTTP. Ce qui nous permet donc d'extraire des données d'une page web."
   ]
  },
  {
   "cell_type": "code",
   "execution_count": 30,
   "metadata": {},
   "outputs": [
    {
     "name": "stdout",
     "output_type": "stream",
     "text": [
      "200\n",
      "data for China is None\n",
      "{'indicator': {'id': 'GC.TAX.IMPT.ZS', 'value': 'Customs and other import duties (% of tax revenue)'}, 'country': {'id': 'CN', 'value': 'China'}, 'countryiso3code': 'CHN', 'date': '2017', 'value': None, 'unit': '', 'obs_status': '', 'decimal': 1}\n"
     ]
    }
   ],
   "source": [
    "url = 'http://api.worldbank.org/v2/country/CHN/indicator/GC.TAX.IMPT.ZS?format=json' ## URL du site web.\n",
    "r = requests.get(url) ## Requests.get retourne un objet (ici r) que nous utilisons par la suite. Le code permet donc d'utiliser la page internet.\n",
    "print(r.status_code) ## Renvoie le statue du code.\n",
    "data = r.json() ## Le language json est un language de description, il est facilement analysable.\n",
    "print('data for',data[1][1]['country']['value'],'is',data[1][1]['value']) ## Permet d'extraire les données qu'on souhaite.\n",
    "print(data[1][1])"
   ]
  },
  {
   "cell_type": "code",
   "execution_count": 29,
   "metadata": {},
   "outputs": [
    {
     "name": "stdout",
     "output_type": "stream",
     "text": [
      "2016 3.89434134127694\n"
     ]
    }
   ],
   "source": [
    "for i in data[1]: ## Vérifie si une des valeurs équivaut à None est si oui recherche l'autre valeur\n",
    "    if i['value'] is None:\n",
    "        continue\n",
    "    else:\n",
    "        print(i['date'],i['value'])\n",
    "        break"
   ]
  },
  {
   "cell_type": "code",
   "execution_count": 31,
   "metadata": {},
   "outputs": [
    {
     "name": "stdout",
     "output_type": "stream",
     "text": [
      "France FRA\n"
     ]
    }
   ],
   "source": [
    "## Le code utilise les mêmes requêtes que précédemment\n",
    "country_name = 'France'\n",
    "url = 'https://restcountries.eu/rest/v2/name/' + country_name\n",
    "r = requests.get(url)\n",
    "data = r.json()\n",
    "print(country_name, data[0]['alpha3Code'])"
   ]
  },
  {
   "cell_type": "code",
   "execution_count": null,
   "metadata": {},
   "outputs": [],
   "source": []
  }
 ],
 "metadata": {
  "kernelspec": {
   "display_name": "Python 3",
   "language": "python",
   "name": "python3"
  },
  "language_info": {
   "codemirror_mode": {
    "name": "ipython",
    "version": 3
   },
   "file_extension": ".py",
   "mimetype": "text/x-python",
   "name": "python",
   "nbconvert_exporter": "python",
   "pygments_lexer": "ipython3",
   "version": "3.7.1"
  }
 },
 "nbformat": 4,
 "nbformat_minor": 2
}
